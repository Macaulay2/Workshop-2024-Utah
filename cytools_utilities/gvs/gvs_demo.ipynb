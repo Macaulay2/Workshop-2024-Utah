{
 "cells": [
  {
   "cell_type": "markdown",
   "id": "34fc07fe-6b53-447a-b8a7-e35df15cee09",
   "metadata": {},
   "source": [
    "This notebook shows how to use the wrapper for cygv contained in gvs.py.\n",
    "\n",
    "You do not need to separately 'pip install' any packages. It is done automatically."
   ]
  },
  {
   "cell_type": "markdown",
   "id": "a5db885f-1c52-446e-98c7-1f6690a6e9b7",
   "metadata": {},
   "source": [
    "# Setup"
   ]
  },
  {
   "cell_type": "markdown",
   "id": "f5655af5-d25e-4b1c-96db-122faeba3ba5",
   "metadata": {},
   "source": [
    "Imports"
   ]
  },
  {
   "cell_type": "code",
   "execution_count": null,
   "id": "6375453f-a1ef-4737-936b-a917df82f76d",
   "metadata": {
    "tags": []
   },
   "outputs": [],
   "source": [
    "from cytools import fetch_polytopes\n",
    "import gvs\n",
    "\n",
    "# Optional - for plotting\n",
    "import matplotlib.pyplot as plt"
   ]
  },
  {
   "cell_type": "markdown",
   "id": "280b2f66-7458-468b-ad17-fb3eaf31d7b3",
   "metadata": {},
   "source": [
    "Grab some polytopes"
   ]
  },
  {
   "cell_type": "code",
   "execution_count": null,
   "id": "0b8d4580-5d11-40e8-b58d-7d49b3f818b8",
   "metadata": {
    "tags": []
   },
   "outputs": [],
   "source": [
    "polys = fetch_polytopes(h11=2, lattice=\"N\", favorable=True, limit=10, as_list=True)"
   ]
  },
  {
   "cell_type": "markdown",
   "id": "d9c5be82-4b2a-4a42-853d-3c14357a97ec",
   "metadata": {},
   "source": [
    "Select a polytope, compute a Delaunay triangulation, and get the associated CY"
   ]
  },
  {
   "cell_type": "code",
   "execution_count": null,
   "id": "fe09d8be-6002-4a68-b0d4-42e1ae0c2493",
   "metadata": {
    "tags": []
   },
   "outputs": [],
   "source": [
    "p  = polys[0]\n",
    "cy = p.triangulate().cy()"
   ]
  },
  {
   "cell_type": "markdown",
   "id": "2c8f4d74-a629-456f-bc94-45542f3d6438",
   "metadata": {
    "jp-MarkdownHeadingCollapsed": true,
    "tags": []
   },
   "source": [
    "## (OPTIONAL) Plotting function"
   ]
  },
  {
   "cell_type": "code",
   "execution_count": null,
   "id": "613e2807-395e-48f5-975f-ccc1bf3789bc",
   "metadata": {
    "tags": []
   },
   "outputs": [],
   "source": [
    "def plot_2d_invariants(invariants):\n",
    "    # Determine the size of the grid\n",
    "    max_row = max(key[0] for key in invariants.keys())\n",
    "    max_col = max(key[1] for key in invariants.keys())\n",
    "\n",
    "    fig, ax = plt.subplots(figsize=(12, 8))\n",
    "\n",
    "    # Create the grid\n",
    "    for row in range(max_row + 1):\n",
    "        for col in range(max_col + 1):\n",
    "            value = invariants.get((row, col), \"\")\n",
    "            ax.text(col, row, str(value), va='center', ha='center', fontsize=12,\n",
    "                    bbox=dict(facecolor='white', edgecolor='black', boxstyle='round,pad=0.3'))\n",
    "\n",
    "    # Set limits, grid and labels\n",
    "    ax.set_xlim(-0.5, max_col + 0.5)\n",
    "    ax.set_ylim(max_row + 0.5, -0.5)\n",
    "    ax.set_xticks(range(max_col + 1))\n",
    "    ax.set_yticks(range(max_row + 1))\n",
    "    ax.grid(which='both', color='black', linestyle='-', linewidth=1)\n",
    "\n",
    "    # Draw x and y axes at the origin\n",
    "    ax.axhline(0, color='black', linewidth=3)\n",
    "    ax.axvline(0, color='black', linewidth=3)"
   ]
  },
  {
   "cell_type": "markdown",
   "id": "d894ca25-654d-4ecb-ace9-3ae522dc73f1",
   "metadata": {},
   "source": [
    "# Demo"
   ]
  },
  {
   "cell_type": "markdown",
   "id": "208efa6d-cdeb-4a44-af29-358c0eb03543",
   "metadata": {
    "jp-MarkdownHeadingCollapsed": true,
    "tags": []
   },
   "source": [
    "## GVs"
   ]
  },
  {
   "cell_type": "markdown",
   "id": "b53bd593-d30c-4856-8358-4f8395d68cd3",
   "metadata": {},
   "source": [
    "Inspect the function"
   ]
  },
  {
   "cell_type": "code",
   "execution_count": null,
   "id": "b46fb7a0-01e8-432d-8695-facc19123799",
   "metadata": {
    "tags": []
   },
   "outputs": [],
   "source": [
    "cy.compute_gvs?"
   ]
  },
  {
   "cell_type": "markdown",
   "id": "06389632-3a28-4252-b82c-46ce0290ecb2",
   "metadata": {},
   "source": [
    "Call it!"
   ]
  },
  {
   "cell_type": "code",
   "execution_count": null,
   "id": "b3d50647-f70c-4bf8-a6a9-1712447b27bb",
   "metadata": {
    "tags": []
   },
   "outputs": [],
   "source": [
    "gvs = cy.compute_gvs(max_deg=5)\n",
    "# could also do cy.compute_gvs(min_points=30) or so"
   ]
  },
  {
   "cell_type": "markdown",
   "id": "8a1dec92-68c8-4dd8-9666-c70c860f7a2f",
   "metadata": {},
   "source": [
    "Look at them"
   ]
  },
  {
   "cell_type": "code",
   "execution_count": null,
   "id": "4d272bb8-718c-4b39-88a6-f68f4c24dbff",
   "metadata": {
    "tags": []
   },
   "outputs": [],
   "source": [
    "print(gvs)"
   ]
  },
  {
   "cell_type": "markdown",
   "id": "0c4b5646-d27a-4e71-8ab1-a398b299fc0f",
   "metadata": {},
   "source": [
    "Plot the GVs"
   ]
  },
  {
   "cell_type": "code",
   "execution_count": null,
   "id": "50eacdcb-4972-42ca-9b3c-71eb0592ad64",
   "metadata": {
    "tags": []
   },
   "outputs": [],
   "source": [
    "plot_2d_invariants(gvs)"
   ]
  },
  {
   "cell_type": "markdown",
   "id": "0c7b3f5c-64ef-4e83-b739-6acf9c435388",
   "metadata": {
    "jp-MarkdownHeadingCollapsed": true,
    "tags": []
   },
   "source": [
    "## GWs"
   ]
  },
  {
   "cell_type": "code",
   "execution_count": null,
   "id": "7071eee7-bfe1-4771-a253-3cd0b4f43306",
   "metadata": {
    "tags": []
   },
   "outputs": [],
   "source": [
    "gws = cy.compute_gws(min_points=20)\n",
    "# could also do cy.compute_gws(max_deg=5) or so"
   ]
  },
  {
   "cell_type": "code",
   "execution_count": null,
   "id": "c15b5026-0147-439b-977f-758f665950f2",
   "metadata": {
    "tags": []
   },
   "outputs": [],
   "source": [
    "print(gws)"
   ]
  },
  {
   "cell_type": "code",
   "execution_count": null,
   "id": "e2fbc8c0-7e71-40f7-b6a1-784e80b8a1a6",
   "metadata": {
    "tags": []
   },
   "outputs": [],
   "source": [
    "plot_2d_invariants(gws)"
   ]
  },
  {
   "cell_type": "code",
   "execution_count": null,
   "id": "80574c97-4fd1-46b5-b04d-58112e139153",
   "metadata": {},
   "outputs": [],
   "source": []
  }
 ],
 "metadata": {
  "kernelspec": {
   "display_name": "Python 3 (ipykernel)",
   "language": "python",
   "name": "python3"
  },
  "language_info": {
   "codemirror_mode": {
    "name": "ipython",
    "version": 3
   },
   "file_extension": ".py",
   "mimetype": "text/x-python",
   "name": "python",
   "nbconvert_exporter": "python",
   "pygments_lexer": "ipython3",
   "version": "3.11.9"
  }
 },
 "nbformat": 4,
 "nbformat_minor": 5
}
