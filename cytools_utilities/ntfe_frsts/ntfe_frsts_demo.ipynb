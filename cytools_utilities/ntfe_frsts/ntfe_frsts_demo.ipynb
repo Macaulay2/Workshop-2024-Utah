{
 "cells": [
  {
   "cell_type": "markdown",
   "id": "b4f7ba04-131c-4dd2-a839-6a191e26c8c1",
   "metadata": {},
   "source": [
    "This notebook shows how to use the 'NTFE FRST' generation code.\n",
    "\n",
    "Fine, regular, and star triangulations (FRSTs) can be used to construct CYs via taking the anticanonical hypersurface. Equivalent CYs are generated from any two FRSTs of a polytope, $p$, that have the same 2-face restrictions. As is such, one only wants to generate FRSTs that have differing 2-face restrictions. Such triangulations are called NTFE FRSTs (NTFE stands for 'non-two-face-equivalent').\n",
    "\n",
    "This notebook demonstrates an efficient algorithm to generate NTFE FRSTs, introduced in [this paper](https://arxiv.org/abs/2309.10855). Such methods tremendously expand the search space of such CY compactifications by speeding up the generation of NTFE FRSTs. E.g., while it becomes infeasible to generate all triangulations of a polytope with $h^{1,1} \\gtrapprox 9$, one can generate all NTFE FRSTs of select polytopes with $h^{1,1}\\approx23$.\n",
    "\n",
    "If you use such methods, please cite the aforementioned paper, [*Efficient Algorithm for Generating Homotopy Inequivalent Calabi-Yaus*](https://arxiv.org/abs/2309.10855) by Nate MacFadden."
   ]
  },
  {
   "cell_type": "markdown",
   "id": "35e4aaa3-a618-4674-bb23-2f380571b8f8",
   "metadata": {},
   "source": [
    "# Setup"
   ]
  },
  {
   "cell_type": "markdown",
   "id": "75babb52-8e4b-4677-b3c6-2460e2385966",
   "metadata": {},
   "source": [
    "Imports"
   ]
  },
  {
   "cell_type": "code",
   "execution_count": 1,
   "id": "b7445e3c-4355-4f25-9b48-1a86717c978a",
   "metadata": {
    "tags": []
   },
   "outputs": [],
   "source": [
    "from cytools import fetch_polytopes\n",
    "import ntfe_frsts"
   ]
  },
  {
   "cell_type": "markdown",
   "id": "9e1417b1-63ae-43a7-a69e-6f343d64d672",
   "metadata": {
    "tags": []
   },
   "source": [
    "Filter warnings"
   ]
  },
  {
   "cell_type": "code",
   "execution_count": 2,
   "id": "b7e4a255-caba-4e5a-acea-79e580f3dffd",
   "metadata": {
    "jupyter": {
     "source_hidden": true
    },
    "tags": []
   },
   "outputs": [],
   "source": [
    "import warnings\n",
    "warnings.filterwarnings(\"ignore\")"
   ]
  },
  {
   "cell_type": "markdown",
   "id": "d1589392-653b-4c9e-a929-a70b917ca47e",
   "metadata": {},
   "source": [
    "# Demo"
   ]
  },
  {
   "cell_type": "code",
   "execution_count": 11,
   "id": "c6b6f573-dd97-4747-afaf-1199ac161dec",
   "metadata": {
    "tags": []
   },
   "outputs": [],
   "source": [
    "polys = fetch_polytopes(h11=6, lattice=\"N\", limit=10)"
   ]
  },
  {
   "cell_type": "code",
   "execution_count": 12,
   "id": "7b0d29e4-b586-4083-8c36-60e41e33e30b",
   "metadata": {
    "tags": []
   },
   "outputs": [
    {
     "name": "stdout",
     "output_type": "stream",
     "text": [
      "For the first 9 polytopes there were 1117 FRSTs but only 25 NTFEs... (i.e., 1092/1117 FRSTs were redundant)\r"
     ]
    }
   ],
   "source": [
    "N_FRSTs = 0\n",
    "N_NTFEs = 0\n",
    "\n",
    "for i,p in enumerate(polys):\n",
    "    print(f\"For the first {i} polytopes there were {N_FRSTs} FRSTs but only {N_NTFEs} NTFEs... (i.e., {N_FRSTs-N_NTFEs}/{N_FRSTs} FRSTs were redundant)\", end='\\r')\n",
    "    N_FRSTs += len(p.all_triangulations(as_list=True))\n",
    "    N_NTFEs += len(p.ntfe_frsts())"
   ]
  },
  {
   "cell_type": "code",
   "execution_count": null,
   "id": "751e5b8f-b4f0-4208-8d8b-9ee71f9ef863",
   "metadata": {},
   "outputs": [],
   "source": []
  }
 ],
 "metadata": {
  "kernelspec": {
   "display_name": "Python 3 (ipykernel)",
   "language": "python",
   "name": "python3"
  },
  "language_info": {
   "codemirror_mode": {
    "name": "ipython",
    "version": 3
   },
   "file_extension": ".py",
   "mimetype": "text/x-python",
   "name": "python",
   "nbconvert_exporter": "python",
   "pygments_lexer": "ipython3",
   "version": "3.11.9"
  }
 },
 "nbformat": 4,
 "nbformat_minor": 5
}
